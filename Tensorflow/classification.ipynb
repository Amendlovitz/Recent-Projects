{
    "cells": [
        {
            "cell_type": "code",
            "execution_count": 2,
            "source": [
                "from __future__ import absolute_import, division, print_function, unicode_literals\r\n",
                "import tensorflow as tf\r\n",
                "import pandas as pd"
            ],
            "outputs": [],
            "metadata": {}
        },
        {
            "cell_type": "code",
            "execution_count": 3,
            "source": [
                "CSV_COLUMN_NAMES = ['SepalLength', 'SepalWidth', 'PetalLength', 'PetalWidth', 'Species']\r\n",
                "SPECIES = ['Setosa', 'Versicolor', 'Virginica']\r\n",
                "# Lets define some constants to help us later on\r\n",
                "train_path = tf.keras.utils.get_file(\"iris_training.csv\", \"https://storage.googleapis.com/download.tensorflow.org/data/iris_training.csv\")\r\n",
                "test_path = tf.keras.utils.get_file(\"iris_test.csv\", \"https://storage.googleapis.com/download.tensorflow.org/data/iris_test.csv\")\r\n",
                "\r\n",
                "train = pd.read_csv(train_path, names=CSV_COLUMN_NAMES, header=0)\r\n",
                "test = pd.read_csv(test_path, names=CSV_COLUMN_NAMES, header=0)\r\n",
                "# Here we use keras (a module inside of TensorFlow) to grab our datasets and read them into a pandas dataframe"
            ],
            "outputs": [
                {
                    "output_type": "stream",
                    "name": "stdout",
                    "text": [
                        "Downloading data from https://storage.googleapis.com/download.tensorflow.org/data/iris_training.csv\n",
                        "8192/2194 [================================================================================================================] - 0s 0us/step\n",
                        "Downloading data from https://storage.googleapis.com/download.tensorflow.org/data/iris_test.csv\n",
                        "8192/573 [============================================================================================================================================================================================================================================================================================================================================================================================================================================] - 0s 0us/step\n"
                    ]
                }
            ],
            "metadata": {}
        },
        {
            "cell_type": "code",
            "execution_count": 4,
            "source": [
                "train.head()"
            ],
            "outputs": [
                {
                    "output_type": "execute_result",
                    "data": {
                        "text/plain": [
                            "   SepalLength  SepalWidth  PetalLength  PetalWidth  Species\n",
                            "0          6.4         2.8          5.6         2.2        2\n",
                            "1          5.0         2.3          3.3         1.0        1\n",
                            "2          4.9         2.5          4.5         1.7        2\n",
                            "3          4.9         3.1          1.5         0.1        0\n",
                            "4          5.7         3.8          1.7         0.3        0"
                        ],
                        "text/html": [
                            "<div>\n",
                            "<style scoped>\n",
                            "    .dataframe tbody tr th:only-of-type {\n",
                            "        vertical-align: middle;\n",
                            "    }\n",
                            "\n",
                            "    .dataframe tbody tr th {\n",
                            "        vertical-align: top;\n",
                            "    }\n",
                            "\n",
                            "    .dataframe thead th {\n",
                            "        text-align: right;\n",
                            "    }\n",
                            "</style>\n",
                            "<table border=\"1\" class=\"dataframe\">\n",
                            "  <thead>\n",
                            "    <tr style=\"text-align: right;\">\n",
                            "      <th></th>\n",
                            "      <th>SepalLength</th>\n",
                            "      <th>SepalWidth</th>\n",
                            "      <th>PetalLength</th>\n",
                            "      <th>PetalWidth</th>\n",
                            "      <th>Species</th>\n",
                            "    </tr>\n",
                            "  </thead>\n",
                            "  <tbody>\n",
                            "    <tr>\n",
                            "      <th>0</th>\n",
                            "      <td>6.4</td>\n",
                            "      <td>2.8</td>\n",
                            "      <td>5.6</td>\n",
                            "      <td>2.2</td>\n",
                            "      <td>2</td>\n",
                            "    </tr>\n",
                            "    <tr>\n",
                            "      <th>1</th>\n",
                            "      <td>5.0</td>\n",
                            "      <td>2.3</td>\n",
                            "      <td>3.3</td>\n",
                            "      <td>1.0</td>\n",
                            "      <td>1</td>\n",
                            "    </tr>\n",
                            "    <tr>\n",
                            "      <th>2</th>\n",
                            "      <td>4.9</td>\n",
                            "      <td>2.5</td>\n",
                            "      <td>4.5</td>\n",
                            "      <td>1.7</td>\n",
                            "      <td>2</td>\n",
                            "    </tr>\n",
                            "    <tr>\n",
                            "      <th>3</th>\n",
                            "      <td>4.9</td>\n",
                            "      <td>3.1</td>\n",
                            "      <td>1.5</td>\n",
                            "      <td>0.1</td>\n",
                            "      <td>0</td>\n",
                            "    </tr>\n",
                            "    <tr>\n",
                            "      <th>4</th>\n",
                            "      <td>5.7</td>\n",
                            "      <td>3.8</td>\n",
                            "      <td>1.7</td>\n",
                            "      <td>0.3</td>\n",
                            "      <td>0</td>\n",
                            "    </tr>\n",
                            "  </tbody>\n",
                            "</table>\n",
                            "</div>"
                        ]
                    },
                    "metadata": {},
                    "execution_count": 4
                }
            ],
            "metadata": {}
        },
        {
            "cell_type": "code",
            "execution_count": 5,
            "source": [
                "train_y = train.pop('Species')\r\n",
                "test_y = test.pop('Species')"
            ],
            "outputs": [],
            "metadata": {}
        },
        {
            "cell_type": "code",
            "execution_count": 6,
            "source": [
                "def input_fn(features, labels, training = True, batch_size = 256):\r\n",
                "    dataset = tf.data.Dataset.from_tensor_slices((dict(features), labels))\r\n",
                "\r\n",
                "    if training:\r\n",
                "        dataset = dataset.shuffle(1000).repeat()\r\n",
                "    \r\n",
                "    return dataset.batch(batch_size)"
            ],
            "outputs": [],
            "metadata": {}
        },
        {
            "cell_type": "code",
            "execution_count": 7,
            "source": [
                "my_feature_columns = []\r\n",
                "for key in train.keys():\r\n",
                "    my_feature_columns.append(tf.feature_column.numeric_column(key = key))\r\n",
                "print(my_feature_columns)"
            ],
            "outputs": [
                {
                    "output_type": "stream",
                    "name": "stdout",
                    "text": [
                        "[NumericColumn(key='SepalLength', shape=(1,), default_value=None, dtype=tf.float32, normalizer_fn=None), NumericColumn(key='SepalWidth', shape=(1,), default_value=None, dtype=tf.float32, normalizer_fn=None), NumericColumn(key='PetalLength', shape=(1,), default_value=None, dtype=tf.float32, normalizer_fn=None), NumericColumn(key='PetalWidth', shape=(1,), default_value=None, dtype=tf.float32, normalizer_fn=None)]\n"
                    ]
                }
            ],
            "metadata": {}
        },
        {
            "cell_type": "code",
            "execution_count": 9,
            "source": [
                "classifier = tf.estimator.DNNClassifier(\r\n",
                "    feature_columns = my_feature_columns,\r\n",
                "    hidden_units = [30, 10],\r\n",
                "    n_classes = 3)"
            ],
            "outputs": [
                {
                    "output_type": "stream",
                    "name": "stdout",
                    "text": [
                        "INFO:tensorflow:Using default config.\n",
                        "WARNING:tensorflow:Using temporary folder as model directory: C:\\Users\\aaron\\AppData\\Local\\Temp\\tmph1qdyooq\n",
                        "INFO:tensorflow:Using config: {'_model_dir': 'C:\\\\Users\\\\aaron\\\\AppData\\\\Local\\\\Temp\\\\tmph1qdyooq', '_tf_random_seed': None, '_save_summary_steps': 100, '_save_checkpoints_steps': None, '_save_checkpoints_secs': 600, '_session_config': allow_soft_placement: true\n",
                        "graph_options {\n",
                        "  rewrite_options {\n",
                        "    meta_optimizer_iterations: ONE\n",
                        "  }\n",
                        "}\n",
                        ", '_keep_checkpoint_max': 5, '_keep_checkpoint_every_n_hours': 10000, '_log_step_count_steps': 100, '_train_distribute': None, '_device_fn': None, '_protocol': None, '_eval_distribute': None, '_experimental_distribute': None, '_experimental_max_worker_delay_secs': None, '_session_creation_timeout_secs': 7200, '_checkpoint_save_graph_def': True, '_service': None, '_cluster_spec': ClusterSpec({}), '_task_type': 'worker', '_task_id': 0, '_global_id_in_cluster': 0, '_master': '', '_evaluation_master': '', '_is_chief': True, '_num_ps_replicas': 0, '_num_worker_replicas': 1}\n"
                    ]
                }
            ],
            "metadata": {}
        },
        {
            "cell_type": "code",
            "execution_count": 10,
            "source": [
                "classifier.train(input_fn = lambda: input_fn(train, train_y, training = True), steps = 5000)"
            ],
            "outputs": [
                {
                    "output_type": "stream",
                    "name": "stdout",
                    "text": [
                        "WARNING:tensorflow:From C:\\Users\\aaron\\Anaconda3\\envs\\py395\\lib\\site-packages\\tensorflow\\python\\training\\training_util.py:235: Variable.initialized_value (from tensorflow.python.ops.variables) is deprecated and will be removed in a future version.\n",
                        "Instructions for updating:\n",
                        "Use Variable.read_value. Variables in 2.X are initialized automatically both in eager and graph (inside tf.defun) contexts.\n",
                        "INFO:tensorflow:Calling model_fn.\n",
                        "WARNING:tensorflow:From C:\\Users\\aaron\\Anaconda3\\envs\\py395\\lib\\site-packages\\tensorflow\\python\\keras\\optimizer_v2\\adagrad.py:87: calling Constant.__init__ (from tensorflow.python.ops.init_ops) with dtype is deprecated and will be removed in a future version.\n",
                        "Instructions for updating:\n",
                        "Call initializer instance with the dtype argument instead of passing it to the constructor\n",
                        "INFO:tensorflow:Done calling model_fn.\n",
                        "INFO:tensorflow:Create CheckpointSaverHook.\n",
                        "INFO:tensorflow:Graph was finalized.\n",
                        "INFO:tensorflow:Running local_init_op.\n",
                        "INFO:tensorflow:Done running local_init_op.\n",
                        "INFO:tensorflow:Calling checkpoint listeners before saving checkpoint 0...\n",
                        "INFO:tensorflow:Saving checkpoints for 0 into C:\\Users\\aaron\\AppData\\Local\\Temp\\tmph1qdyooq\\model.ckpt.\n",
                        "INFO:tensorflow:Calling checkpoint listeners after saving checkpoint 0...\n",
                        "INFO:tensorflow:loss = 1.3017104, step = 0\n",
                        "INFO:tensorflow:global_step/sec: 505.116\n",
                        "INFO:tensorflow:loss = 0.8674875, step = 100 (0.199 sec)\n",
                        "INFO:tensorflow:global_step/sec: 663.306\n",
                        "INFO:tensorflow:loss = 0.75005937, step = 200 (0.151 sec)\n",
                        "INFO:tensorflow:global_step/sec: 652.885\n",
                        "INFO:tensorflow:loss = 0.6905205, step = 300 (0.153 sec)\n",
                        "INFO:tensorflow:global_step/sec: 569.695\n",
                        "INFO:tensorflow:loss = 0.64881337, step = 400 (0.177 sec)\n",
                        "INFO:tensorflow:global_step/sec: 665.615\n",
                        "INFO:tensorflow:loss = 0.6200155, step = 500 (0.149 sec)\n",
                        "INFO:tensorflow:global_step/sec: 747.465\n",
                        "INFO:tensorflow:loss = 0.5918452, step = 600 (0.133 sec)\n",
                        "INFO:tensorflow:global_step/sec: 820.448\n",
                        "INFO:tensorflow:loss = 0.5538596, step = 700 (0.123 sec)\n",
                        "INFO:tensorflow:global_step/sec: 838.058\n",
                        "INFO:tensorflow:loss = 0.53914046, step = 800 (0.120 sec)\n",
                        "INFO:tensorflow:global_step/sec: 613.193\n",
                        "INFO:tensorflow:loss = 0.5236552, step = 900 (0.161 sec)\n",
                        "INFO:tensorflow:global_step/sec: 627.448\n",
                        "INFO:tensorflow:loss = 0.496469, step = 1000 (0.160 sec)\n",
                        "INFO:tensorflow:global_step/sec: 785.296\n",
                        "INFO:tensorflow:loss = 0.50074637, step = 1100 (0.127 sec)\n",
                        "INFO:tensorflow:global_step/sec: 823.774\n",
                        "INFO:tensorflow:loss = 0.4912464, step = 1200 (0.121 sec)\n",
                        "INFO:tensorflow:global_step/sec: 614.062\n",
                        "INFO:tensorflow:loss = 0.48251677, step = 1300 (0.164 sec)\n",
                        "INFO:tensorflow:global_step/sec: 649.704\n",
                        "INFO:tensorflow:loss = 0.46060067, step = 1400 (0.153 sec)\n",
                        "INFO:tensorflow:global_step/sec: 825.972\n",
                        "INFO:tensorflow:loss = 0.4542777, step = 1500 (0.122 sec)\n",
                        "INFO:tensorflow:global_step/sec: 658.167\n",
                        "INFO:tensorflow:loss = 0.43744278, step = 1600 (0.152 sec)\n",
                        "INFO:tensorflow:global_step/sec: 659.793\n",
                        "INFO:tensorflow:loss = 0.44729167, step = 1700 (0.151 sec)\n",
                        "INFO:tensorflow:global_step/sec: 813.51\n",
                        "INFO:tensorflow:loss = 0.43524086, step = 1800 (0.123 sec)\n",
                        "INFO:tensorflow:global_step/sec: 826.492\n",
                        "INFO:tensorflow:loss = 0.4094984, step = 1900 (0.121 sec)\n",
                        "INFO:tensorflow:global_step/sec: 714.968\n",
                        "INFO:tensorflow:loss = 0.40325832, step = 2000 (0.141 sec)\n",
                        "INFO:tensorflow:global_step/sec: 773.678\n",
                        "INFO:tensorflow:loss = 0.41083878, step = 2100 (0.128 sec)\n",
                        "INFO:tensorflow:global_step/sec: 838.336\n",
                        "INFO:tensorflow:loss = 0.396861, step = 2200 (0.119 sec)\n",
                        "INFO:tensorflow:global_step/sec: 759.609\n",
                        "INFO:tensorflow:loss = 0.4012419, step = 2300 (0.132 sec)\n",
                        "INFO:tensorflow:global_step/sec: 835.535\n",
                        "INFO:tensorflow:loss = 0.39125538, step = 2400 (0.120 sec)\n",
                        "INFO:tensorflow:global_step/sec: 844.57\n",
                        "INFO:tensorflow:loss = 0.38267517, step = 2500 (0.117 sec)\n",
                        "INFO:tensorflow:global_step/sec: 825.816\n",
                        "INFO:tensorflow:loss = 0.37718093, step = 2600 (0.122 sec)\n",
                        "INFO:tensorflow:global_step/sec: 711.95\n",
                        "INFO:tensorflow:loss = 0.3712281, step = 2700 (0.140 sec)\n",
                        "INFO:tensorflow:global_step/sec: 849.531\n",
                        "INFO:tensorflow:loss = 0.36452073, step = 2800 (0.118 sec)\n",
                        "INFO:tensorflow:global_step/sec: 815.754\n",
                        "INFO:tensorflow:loss = 0.37598157, step = 2900 (0.122 sec)\n",
                        "INFO:tensorflow:global_step/sec: 788.594\n",
                        "INFO:tensorflow:loss = 0.35542703, step = 3000 (0.127 sec)\n",
                        "INFO:tensorflow:global_step/sec: 804.853\n",
                        "INFO:tensorflow:loss = 0.367208, step = 3100 (0.124 sec)\n",
                        "INFO:tensorflow:global_step/sec: 720.056\n",
                        "INFO:tensorflow:loss = 0.35897198, step = 3200 (0.140 sec)\n",
                        "INFO:tensorflow:global_step/sec: 767.937\n",
                        "INFO:tensorflow:loss = 0.34340936, step = 3300 (0.129 sec)\n",
                        "INFO:tensorflow:global_step/sec: 763.659\n",
                        "INFO:tensorflow:loss = 0.34492272, step = 3400 (0.131 sec)\n",
                        "INFO:tensorflow:global_step/sec: 804.096\n",
                        "INFO:tensorflow:loss = 0.33503526, step = 3500 (0.124 sec)\n",
                        "INFO:tensorflow:global_step/sec: 782.717\n",
                        "INFO:tensorflow:loss = 0.33289576, step = 3600 (0.128 sec)\n",
                        "INFO:tensorflow:global_step/sec: 787.929\n",
                        "INFO:tensorflow:loss = 0.319704, step = 3700 (0.127 sec)\n",
                        "INFO:tensorflow:global_step/sec: 748.511\n",
                        "INFO:tensorflow:loss = 0.32380897, step = 3800 (0.134 sec)\n",
                        "INFO:tensorflow:global_step/sec: 695.983\n",
                        "INFO:tensorflow:loss = 0.3220892, step = 3900 (0.144 sec)\n",
                        "INFO:tensorflow:global_step/sec: 832.484\n",
                        "INFO:tensorflow:loss = 0.3092083, step = 4000 (0.120 sec)\n",
                        "INFO:tensorflow:global_step/sec: 840.769\n",
                        "INFO:tensorflow:loss = 0.30248398, step = 4100 (0.119 sec)\n",
                        "INFO:tensorflow:global_step/sec: 823.684\n",
                        "INFO:tensorflow:loss = 0.3107307, step = 4200 (0.121 sec)\n",
                        "INFO:tensorflow:global_step/sec: 710.563\n",
                        "INFO:tensorflow:loss = 0.30207667, step = 4300 (0.141 sec)\n",
                        "INFO:tensorflow:global_step/sec: 818.113\n",
                        "INFO:tensorflow:loss = 0.30583304, step = 4400 (0.122 sec)\n",
                        "INFO:tensorflow:global_step/sec: 854.011\n",
                        "INFO:tensorflow:loss = 0.3006717, step = 4500 (0.118 sec)\n",
                        "INFO:tensorflow:global_step/sec: 831.425\n",
                        "INFO:tensorflow:loss = 0.2950088, step = 4600 (0.120 sec)\n",
                        "INFO:tensorflow:global_step/sec: 612.387\n",
                        "INFO:tensorflow:loss = 0.28966707, step = 4700 (0.163 sec)\n",
                        "INFO:tensorflow:global_step/sec: 828.838\n",
                        "INFO:tensorflow:loss = 0.29082355, step = 4800 (0.120 sec)\n",
                        "INFO:tensorflow:global_step/sec: 806.332\n",
                        "INFO:tensorflow:loss = 0.28614232, step = 4900 (0.125 sec)\n",
                        "INFO:tensorflow:Calling checkpoint listeners before saving checkpoint 5000...\n",
                        "INFO:tensorflow:Saving checkpoints for 5000 into C:\\Users\\aaron\\AppData\\Local\\Temp\\tmph1qdyooq\\model.ckpt.\n",
                        "INFO:tensorflow:Calling checkpoint listeners after saving checkpoint 5000...\n",
                        "INFO:tensorflow:Loss for final step: 0.29008603.\n"
                    ]
                },
                {
                    "output_type": "execute_result",
                    "data": {
                        "text/plain": [
                            "<tensorflow_estimator.python.estimator.canned.dnn.DNNClassifierV2 at 0x2de0a088370>"
                        ]
                    },
                    "metadata": {},
                    "execution_count": 10
                }
            ],
            "metadata": {}
        },
        {
            "cell_type": "code",
            "execution_count": 12,
            "source": [
                "eval_result = classifier.evaluate(input_fn = lambda: input_fn(test, test_y, training = False))\r\n",
                "print('\\nTest set accuracy: {accuracy:0.3f}\\n'.format(**eval_result))"
            ],
            "outputs": [
                {
                    "output_type": "stream",
                    "name": "stdout",
                    "text": [
                        "INFO:tensorflow:Calling model_fn.\n",
                        "INFO:tensorflow:Done calling model_fn.\n",
                        "INFO:tensorflow:Starting evaluation at 2021-07-04T15:20:30\n",
                        "INFO:tensorflow:Graph was finalized.\n",
                        "INFO:tensorflow:Restoring parameters from C:\\Users\\aaron\\AppData\\Local\\Temp\\tmph1qdyooq\\model.ckpt-5000\n",
                        "INFO:tensorflow:Running local_init_op.\n",
                        "INFO:tensorflow:Done running local_init_op.\n",
                        "INFO:tensorflow:Inference Time : 0.18362s\n",
                        "INFO:tensorflow:Finished evaluation at 2021-07-04-15:20:30\n",
                        "INFO:tensorflow:Saving dict for global step 5000: accuracy = 0.93333334, average_loss = 0.31956804, global_step = 5000, loss = 0.31956804\n",
                        "INFO:tensorflow:Saving 'checkpoint_path' summary for global step 5000: C:\\Users\\aaron\\AppData\\Local\\Temp\\tmph1qdyooq\\model.ckpt-5000\n",
                        "\n",
                        "Test set accuracy: 0.933\n",
                        "\n"
                    ]
                }
            ],
            "metadata": {}
        },
        {
            "cell_type": "code",
            "execution_count": 22,
            "source": [
                "def input_fn(features, batch_size = 256):\r\n",
                "    return tf.data.Dataset.from_tensor_slices(dict(features)).batch(batch_size)\r\n",
                "\r\n",
                "# features = ['SepalLength', 'SepalWidth', 'PetalLength', 'PetalWidth']\r\n",
                "# predict = {}\r\n",
                "\r\n",
                "# # print(\"Please type numeric values as prompted.\")\r\n",
                "# # for feature in features:\r\n",
                "# #     valid = True\r\n",
                "# #     while valid: \r\n",
                "# #         val = input(feature + \": \")\r\n",
                "# #         if not val.isdigit(): valid = False\r\n",
                "# #     predict[feature] = [float(val)]\r\n",
                "\r\n",
                "# predictions = classifier.predict(input_fn=lambda: input_fn(predict))\r\n",
                "# for pred_dict in predictions:\r\n",
                "#     class_id = pred_dict['class_ids'][0]\r\n",
                "#     probability = pred_dict['probabilities'][class_id]\r\n",
                "\r\n",
                "#     print('Prediction is \"{}\" ({:.1f}%)'.format(\r\n",
                "#         SPECIES[class_id], 100 * probability))\r\n"
            ],
            "outputs": [],
            "metadata": {}
        },
        {
            "cell_type": "code",
            "execution_count": 20,
            "source": [],
            "outputs": [
                {
                    "output_type": "execute_result",
                    "data": {
                        "text/plain": [
                            "''"
                        ]
                    },
                    "metadata": {},
                    "execution_count": 20
                }
            ],
            "metadata": {}
        }
    ],
    "metadata": {
        "orig_nbformat": 4,
        "language_info": {
            "name": "python"
        }
    },
    "nbformat": 4,
    "nbformat_minor": 2
}