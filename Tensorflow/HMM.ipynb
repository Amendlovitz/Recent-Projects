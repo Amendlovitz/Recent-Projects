{
    "cells": [
        {
            "cell_type": "code",
            "execution_count": 1,
            "source": [
                "import tensorflow_probability as tfp\r\n",
                "import tensorflow as tf\r\n"
            ],
            "outputs": [],
            "metadata": {}
        },
        {
            "cell_type": "code",
            "execution_count": 9,
            "source": [
                "tfd = tfp.distributions\r\n",
                "init_dist = tfd.Categorical(probs = [0.8, 0.2])\r\n",
                "trans_dist = tfd.Categorical(probs = [[0.7, 0.3], [0.2, 0.8]])\r\n",
                "obs_dist = tfd.Normal(loc = [0., 15.], scale = [5., 10.])"
            ],
            "outputs": [],
            "metadata": {}
        },
        {
            "cell_type": "code",
            "execution_count": 10,
            "source": [
                "model = tfd.HiddenMarkovModel(initial_distribution = init_dist, transition_distribution = trans_dist, \r\n",
                "observation_distribution = obs_dist, num_steps = 7)"
            ],
            "outputs": [],
            "metadata": {}
        },
        {
            "cell_type": "code",
            "execution_count": 11,
            "source": [
                "mean = model.mean()\r\n",
                "\r\n",
                "with tf.compat.v1.Session() as sess:\r\n",
                "    print(mean.numpy())"
            ],
            "outputs": [
                {
                    "output_type": "stream",
                    "name": "stdout",
                    "text": [
                        "[2.9999998 5.9999995 7.4999995 8.25      8.625     8.812501  8.90625  ]\n"
                    ]
                }
            ],
            "metadata": {}
        }
    ],
    "metadata": {
        "orig_nbformat": 4,
        "language_info": {
            "name": "python"
        }
    },
    "nbformat": 4,
    "nbformat_minor": 2
}